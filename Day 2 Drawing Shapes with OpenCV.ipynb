{
 "cells": [
  {
   "cell_type": "code",
   "execution_count": 10,
   "metadata": {},
   "outputs": [],
   "source": [
    "# Code: https://opencv-python-tutroals.readthedocs.io/en/latest/py_tutorials/py_gui/py_drawing_functions/py_drawing_functions.html#drawing-functions\n",
    "# Explanations: https://docs.opencv.org/2.4/modules/core/doc/drawing_functions.html\n",
    "# Import\n",
    "import numpy as np\n",
    "import cv2"
   ]
  },
  {
   "cell_type": "code",
   "execution_count": 11,
   "metadata": {},
   "outputs": [
    {
     "data": {
      "text/plain": [
       "True"
      ]
     },
     "execution_count": 11,
     "metadata": {},
     "output_type": "execute_result"
    }
   ],
   "source": [
    "# Create a black image\n",
    "img = np.zeros((512,512,3), np.uint8)\n",
    "\n",
    "# Draw a diagonal blue line with thickness of 5 px\n",
    "img = cv2.line(img,(0,0),(511,511),(255,0,0),5)\n",
    "cv2.imwrite('data/Images from Day 2/Line.png', img)"
   ]
  },
  {
   "cell_type": "code",
   "execution_count": 14,
   "metadata": {
    "scrolled": true
   },
   "outputs": [
    {
     "data": {
      "text/plain": [
       "True"
      ]
     },
     "execution_count": 14,
     "metadata": {},
     "output_type": "execute_result"
    }
   ],
   "source": [
    "img = np.zeros((512,512,3), np.uint8)\n",
    "# Draws Rectangles\n",
    "\n",
    "img = cv2.rectangle(img,(384,0),(510,128),(0,255,0),3)\n",
    "cv2.imwrite('data/Images from Day 2/Rectangle.png', img)"
   ]
  },
  {
   "cell_type": "code",
   "execution_count": 15,
   "metadata": {},
   "outputs": [
    {
     "data": {
      "text/plain": [
       "True"
      ]
     },
     "execution_count": 15,
     "metadata": {},
     "output_type": "execute_result"
    }
   ],
   "source": [
    "img = np.zeros((512,512,3), np.uint8)\n",
    "# Draws a circle\n",
    "\n",
    "#Paramters: (img, center, radius, color[, thickness[, lineType[, shift]]])\n",
    "# img – Image where the circle is drawn.\n",
    "#center – Center of the circle.\n",
    "#radius – Radius of the circle.\n",
    "#color – Circle color.\n",
    "#thickness – Thickness of the circle outline, if positive. Negative thickness means that a filled circle is to be drawn.\n",
    "#lineType – Type of the circle boundary. See the line() description.\n",
    "#shift – Number of fractional bits in the coordinates of the center and in the radius value.\n",
    "\n",
    "img = cv2.circle(img,(447,63), 63, (0,0,255), 1)\n",
    "cv2.imwrite('data/Images from Day 2/Circle.png', img)"
   ]
  },
  {
   "cell_type": "code",
   "execution_count": 22,
   "metadata": {},
   "outputs": [
    {
     "data": {
      "text/plain": [
       "True"
      ]
     },
     "execution_count": 22,
     "metadata": {},
     "output_type": "execute_result"
    }
   ],
   "source": [
    "img = np.zeros((512,512,3), np.uint8)\n",
    "# Draws a eclipse\n",
    "# Parameters (image, center, axes, angle, color, thickness)\n",
    "img = cv2.ellipse(img,(256,256),(100,50),0,0,360,255, 4)\n",
    "cv2.imwrite('data/Images from Day 2/Eclipse.png', img)"
   ]
  },
  {
   "cell_type": "code",
   "execution_count": 17,
   "metadata": {},
   "outputs": [
    {
     "data": {
      "text/plain": [
       "True"
      ]
     },
     "execution_count": 17,
     "metadata": {},
     "output_type": "execute_result"
    }
   ],
   "source": [
    "img = np.zeros((512,512,3), np.uint8)\n",
    "# Draws a random polygon\n",
    "# Function Name: Polylines\n",
    "# Parameters: (img, pts, isClosed, color[, thickness[, lineType[, shift]]])\n",
    "\n",
    "# pts – Array of polygonal curves.\n",
    "# isClosed – Flag indicating whether the drawn polylines are closed or not. If they are closed, the function draws a line from the last vertex of each curve to its first vertex.\n",
    "# color – Polyline color.\n",
    "# thickness – Thickness of the polyline edges.\n",
    "# lineType – Type of the line segments. See the line() description.\n",
    "# shift – Number of fractional bits in the vertex coordinates.\n",
    "\n",
    "pts = np.array([[10,5],[20,30],[70,20],[50,10]], np.int32)\n",
    "pts = pts.reshape((-1,1,2))\n",
    "img = cv2.polylines(img,[pts],True,(0,255,255))\n",
    "cv2.imwrite('data/Images from Day 2/Polygon.png', img)"
   ]
  },
  {
   "cell_type": "code",
   "execution_count": 18,
   "metadata": {},
   "outputs": [
    {
     "data": {
      "text/plain": [
       "True"
      ]
     },
     "execution_count": 18,
     "metadata": {},
     "output_type": "execute_result"
    }
   ],
   "source": [
    "img = np.zeros((512,512,3), np.uint8)\n",
    "# Puts text in a image\n",
    "# Command:putText\n",
    "# Parameters: (img, text, org, fontFace, fontScale, color[, thickness[, lineType[, bottomLeftOrigin]]]) \n",
    "\n",
    "# text – Text string to be drawn.\n",
    "# org – Bottom-left corner of the text string in the image.\n",
    "# fontFace – Font type. One of FONT_HERSHEY_SIMPLEX, FONT_HERSHEY_PLAIN, FONT_HERSHEY_DUPLEX, FONT_HERSHEY_COMPLEX, FONT_HERSHEY_TRIPLEX, FONT_HERSHEY_COMPLEX_SMALL, FONT_HERSHEY_SCRIPT_SIMPLEX, or FONT_HERSHEY_SCRIPT_COMPLEX, where each of the font ID’s can be combined with FONT_ITALIC to get the slanted letters.\n",
    "# fontScale – Font scale factor that is multiplied by the font-specific base size.\n",
    "# color – Text color.\n",
    "# thickness – Thickness of the lines used to draw a text.\n",
    "# lineType – Line type. See the line for details.\n",
    "# bottomLeftOrigin – When true, the image data origin is at the bottom-left corner. Otherwise, it is at the top-left corner.\n",
    "\n",
    "font = cv2.FONT_HERSHEY_SIMPLEX\n",
    "cv2.putText(img,'Blue.jpg',(10,500), font, 4,(255,255,255),2,cv2.LINE_AA)\n",
    "cv2.imwrite('data/Images from Day 2/Text.png', img)"
   ]
  },
  {
   "cell_type": "code",
   "execution_count": null,
   "metadata": {},
   "outputs": [],
   "source": []
  }
 ],
 "metadata": {
  "kernelspec": {
   "display_name": "Python 3",
   "language": "python",
   "name": "python3"
  },
  "language_info": {
   "codemirror_mode": {
    "name": "ipython",
    "version": 3
   },
   "file_extension": ".py",
   "mimetype": "text/x-python",
   "name": "python",
   "nbconvert_exporter": "python",
   "pygments_lexer": "ipython3",
   "version": "3.6.4"
  }
 },
 "nbformat": 4,
 "nbformat_minor": 2
}
